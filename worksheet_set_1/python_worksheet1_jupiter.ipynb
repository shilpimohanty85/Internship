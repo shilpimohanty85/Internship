{
 "cells": [
  {
   "cell_type": "code",
   "execution_count": 1,
   "id": "9af89045",
   "metadata": {},
   "outputs": [],
   "source": [
    "colorlist=[\"blue\",\"white\",\"black\"]"
   ]
  },
  {
   "cell_type": "code",
   "execution_count": 2,
   "id": "007e515a",
   "metadata": {},
   "outputs": [
    {
     "data": {
      "text/plain": [
       "['blue', 'white', 'black']"
      ]
     },
     "execution_count": 2,
     "metadata": {},
     "output_type": "execute_result"
    }
   ],
   "source": [
    "colorlist"
   ]
  },
  {
   "cell_type": "code",
   "execution_count": 3,
   "id": "d95e698d",
   "metadata": {},
   "outputs": [],
   "source": [
    "colorlist.append(\"pink\")"
   ]
  },
  {
   "cell_type": "code",
   "execution_count": 4,
   "id": "3578cce0",
   "metadata": {},
   "outputs": [
    {
     "data": {
      "text/plain": [
       "['blue', 'white', 'black', 'pink']"
      ]
     },
     "execution_count": 4,
     "metadata": {},
     "output_type": "execute_result"
    }
   ],
   "source": [
    "colorlist"
   ]
  },
  {
   "cell_type": "code",
   "execution_count": 5,
   "id": "db5e323c",
   "metadata": {},
   "outputs": [],
   "source": [
    "colorlist.append(\"white\")"
   ]
  },
  {
   "cell_type": "code",
   "execution_count": 6,
   "id": "b0109932",
   "metadata": {},
   "outputs": [
    {
     "data": {
      "text/plain": [
       "['blue', 'white', 'black', 'pink', 'white']"
      ]
     },
     "execution_count": 6,
     "metadata": {},
     "output_type": "execute_result"
    }
   ],
   "source": [
    "colorlist"
   ]
  },
  {
   "cell_type": "code",
   "execution_count": 7,
   "id": "03d0b0d8",
   "metadata": {},
   "outputs": [
    {
     "data": {
      "text/plain": [
       "'white'"
      ]
     },
     "execution_count": 7,
     "metadata": {},
     "output_type": "execute_result"
    }
   ],
   "source": [
    "colorlist.pop()"
   ]
  },
  {
   "cell_type": "code",
   "execution_count": 8,
   "id": "572411cc",
   "metadata": {},
   "outputs": [
    {
     "data": {
      "text/plain": [
       "['blue', 'white', 'black', 'pink']"
      ]
     },
     "execution_count": 8,
     "metadata": {},
     "output_type": "execute_result"
    }
   ],
   "source": [
    "colorlist"
   ]
  },
  {
   "cell_type": "code",
   "execution_count": 9,
   "id": "0ed70232",
   "metadata": {},
   "outputs": [],
   "source": [
    "colorlist.remove(\"black\")"
   ]
  },
  {
   "cell_type": "code",
   "execution_count": 10,
   "id": "93533e35",
   "metadata": {},
   "outputs": [
    {
     "data": {
      "text/plain": [
       "['blue', 'white', 'pink']"
      ]
     },
     "execution_count": 10,
     "metadata": {},
     "output_type": "execute_result"
    }
   ],
   "source": [
    "colorlist"
   ]
  },
  {
   "cell_type": "code",
   "execution_count": 27,
   "id": "2f464ef2",
   "metadata": {},
   "outputs": [],
   "source": [
    "colorlist1=[\"black\",\"grey\",\"brown\"]"
   ]
  },
  {
   "cell_type": "raw",
   "id": "17c1f291",
   "metadata": {},
   "source": [
    "colorlist1"
   ]
  },
  {
   "cell_type": "code",
   "execution_count": 28,
   "id": "7c0d58d7",
   "metadata": {},
   "outputs": [],
   "source": [
    "colorlist2=[\"violet\"]"
   ]
  },
  {
   "cell_type": "code",
   "execution_count": 29,
   "id": "c907e433",
   "metadata": {},
   "outputs": [
    {
     "data": {
      "text/plain": [
       "['violet']"
      ]
     },
     "execution_count": 29,
     "metadata": {},
     "output_type": "execute_result"
    }
   ],
   "source": [
    "colorlist2"
   ]
  },
  {
   "cell_type": "code",
   "execution_count": 30,
   "id": "97d00595",
   "metadata": {},
   "outputs": [],
   "source": [
    "colorlist1.append(colorlist2)"
   ]
  },
  {
   "cell_type": "code",
   "execution_count": 31,
   "id": "0fdcd271",
   "metadata": {},
   "outputs": [
    {
     "data": {
      "text/plain": [
       "['black', 'grey', 'brown', ['violet']]"
      ]
     },
     "execution_count": 31,
     "metadata": {},
     "output_type": "execute_result"
    }
   ],
   "source": [
    "colorlist1"
   ]
  },
  {
   "cell_type": "code",
   "execution_count": 32,
   "id": "3e7dcdb6",
   "metadata": {},
   "outputs": [],
   "source": [
    "colorlist3=[\"magenta\",\"pistachia\"]"
   ]
  },
  {
   "cell_type": "code",
   "execution_count": 33,
   "id": "aec49fe8",
   "metadata": {},
   "outputs": [
    {
     "data": {
      "text/plain": [
       "['magenta', 'pistachia']"
      ]
     },
     "execution_count": 33,
     "metadata": {},
     "output_type": "execute_result"
    }
   ],
   "source": [
    "colorlist3"
   ]
  },
  {
   "cell_type": "code",
   "execution_count": 34,
   "id": "202718ba",
   "metadata": {},
   "outputs": [],
   "source": [
    "colorlist4=[\"yellow\",\"furchasia\"]"
   ]
  },
  {
   "cell_type": "code",
   "execution_count": 35,
   "id": "36e80eee",
   "metadata": {},
   "outputs": [
    {
     "data": {
      "text/plain": [
       "['yellow', 'furchasia']"
      ]
     },
     "execution_count": 35,
     "metadata": {},
     "output_type": "execute_result"
    }
   ],
   "source": [
    "colorlist4"
   ]
  },
  {
   "cell_type": "code",
   "execution_count": 36,
   "id": "25f43a97",
   "metadata": {},
   "outputs": [],
   "source": [
    "colorlist3.extend(colorlist4)"
   ]
  },
  {
   "cell_type": "code",
   "execution_count": 37,
   "id": "9d8a0af5",
   "metadata": {},
   "outputs": [
    {
     "data": {
      "text/plain": [
       "['magenta', 'pistachia', 'yellow', 'furchasia']"
      ]
     },
     "execution_count": 37,
     "metadata": {},
     "output_type": "execute_result"
    }
   ],
   "source": [
    "colorlist3"
   ]
  },
  {
   "cell_type": "code",
   "execution_count": 39,
   "id": "202bccd3",
   "metadata": {},
   "outputs": [],
   "source": [
    "colorlist3.remove('yellow')"
   ]
  },
  {
   "cell_type": "code",
   "execution_count": 40,
   "id": "4e22fae0",
   "metadata": {},
   "outputs": [
    {
     "data": {
      "text/plain": [
       "['magenta', 'pistachia', 'furchasia']"
      ]
     },
     "execution_count": 40,
     "metadata": {},
     "output_type": "execute_result"
    }
   ],
   "source": [
    "colorlist3"
   ]
  },
  {
   "cell_type": "code",
   "execution_count": 54,
   "id": "b8c14a9e",
   "metadata": {},
   "outputs": [],
   "source": [
    "colorlist4=[\"violet\",\"pink\",\"yellow\",]"
   ]
  },
  {
   "cell_type": "code",
   "execution_count": 55,
   "id": "ff3a80d3",
   "metadata": {},
   "outputs": [
    {
     "data": {
      "text/plain": [
       "['violet', 'pink', 'yellow']"
      ]
     },
     "execution_count": 55,
     "metadata": {},
     "output_type": "execute_result"
    }
   ],
   "source": [
    "colorlist4"
   ]
  },
  {
   "cell_type": "code",
   "execution_count": 56,
   "id": "3cf70d09",
   "metadata": {},
   "outputs": [],
   "source": [
    "colorlist3.extend(colorlist4)"
   ]
  },
  {
   "cell_type": "code",
   "execution_count": 57,
   "id": "08ff7053",
   "metadata": {},
   "outputs": [
    {
     "data": {
      "text/plain": [
       "['magenta', 'pistachia', 'furchasia', 'violet', 'pink', 'yellow']"
      ]
     },
     "execution_count": 57,
     "metadata": {},
     "output_type": "execute_result"
    }
   ],
   "source": [
    "colorlist3"
   ]
  },
  {
   "cell_type": "code",
   "execution_count": 58,
   "id": "92529d93",
   "metadata": {},
   "outputs": [],
   "source": [
    "colorlist3.insert(3,\"lightgreen\")"
   ]
  },
  {
   "cell_type": "code",
   "execution_count": 59,
   "id": "dc44bcfd",
   "metadata": {},
   "outputs": [
    {
     "data": {
      "text/plain": [
       "['magenta', 'pistachia', 'furchasia', 'lightgreen', 'violet', 'pink', 'yellow']"
      ]
     },
     "execution_count": 59,
     "metadata": {},
     "output_type": "execute_result"
    }
   ],
   "source": [
    "colorlist3"
   ]
  },
  {
   "cell_type": "code",
   "execution_count": 60,
   "id": "d003b176",
   "metadata": {},
   "outputs": [],
   "source": [
    "colorlist3.sort()"
   ]
  },
  {
   "cell_type": "code",
   "execution_count": 61,
   "id": "8de2601f",
   "metadata": {},
   "outputs": [
    {
     "data": {
      "text/plain": [
       "['furchasia', 'lightgreen', 'magenta', 'pink', 'pistachia', 'violet', 'yellow']"
      ]
     },
     "execution_count": 61,
     "metadata": {},
     "output_type": "execute_result"
    }
   ],
   "source": [
    "colorlist3"
   ]
  },
  {
   "cell_type": "code",
   "execution_count": 62,
   "id": "260c5c46",
   "metadata": {},
   "outputs": [],
   "source": [
    "colorlist3.reverse()"
   ]
  },
  {
   "cell_type": "code",
   "execution_count": 63,
   "id": "0b15d64d",
   "metadata": {},
   "outputs": [
    {
     "data": {
      "text/plain": [
       "['yellow', 'violet', 'pistachia', 'pink', 'magenta', 'lightgreen', 'furchasia']"
      ]
     },
     "execution_count": 63,
     "metadata": {},
     "output_type": "execute_result"
    }
   ],
   "source": [
    "colorlist3"
   ]
  },
  {
   "cell_type": "markdown",
   "id": "9d30092a",
   "metadata": {},
   "source": [
    "listing"
   ]
  },
  {
   "cell_type": "code",
   "execution_count": 80,
   "id": "be077895",
   "metadata": {},
   "outputs": [],
   "source": [
    "num1=[2,4,6,8,10]"
   ]
  },
  {
   "cell_type": "code",
   "execution_count": 65,
   "id": "d2ce8619",
   "metadata": {},
   "outputs": [
    {
     "data": {
      "text/plain": [
       "[2, 4, 6, 8, 10]"
      ]
     },
     "execution_count": 65,
     "metadata": {},
     "output_type": "execute_result"
    }
   ],
   "source": [
    "num1"
   ]
  },
  {
   "cell_type": "code",
   "execution_count": 81,
   "id": "89a78c09",
   "metadata": {},
   "outputs": [],
   "source": [
    "num2=[1,3,5,7,9]"
   ]
  },
  {
   "cell_type": "code",
   "execution_count": 67,
   "id": "8d231794",
   "metadata": {},
   "outputs": [
    {
     "data": {
      "text/plain": [
       "[1, 3, 5, 7, 9]"
      ]
     },
     "execution_count": 67,
     "metadata": {},
     "output_type": "execute_result"
    }
   ],
   "source": [
    "num2\n"
   ]
  },
  {
   "cell_type": "code",
   "execution_count": 82,
   "id": "a0b88379",
   "metadata": {},
   "outputs": [],
   "source": [
    "num1.extend(num2)"
   ]
  },
  {
   "cell_type": "code",
   "execution_count": 83,
   "id": "2dd53625",
   "metadata": {},
   "outputs": [
    {
     "data": {
      "text/plain": [
       "[2, 4, 6, 8, 10, 1, 3, 5, 7, 9]"
      ]
     },
     "execution_count": 83,
     "metadata": {},
     "output_type": "execute_result"
    }
   ],
   "source": [
    "num1"
   ]
  },
  {
   "cell_type": "code",
   "execution_count": 84,
   "id": "f27905f1",
   "metadata": {},
   "outputs": [
    {
     "data": {
      "text/plain": [
       "4"
      ]
     },
     "execution_count": 84,
     "metadata": {},
     "output_type": "execute_result"
    }
   ],
   "source": [
    "num1.pop(1)"
   ]
  },
  {
   "cell_type": "code",
   "execution_count": 71,
   "id": "e4d5dade",
   "metadata": {},
   "outputs": [
    {
     "data": {
      "text/plain": [
       "[2, 6, 8, 10, 1, 3, 5, 7, 9]"
      ]
     },
     "execution_count": 71,
     "metadata": {},
     "output_type": "execute_result"
    }
   ],
   "source": [
    "num1"
   ]
  },
  {
   "cell_type": "code",
   "execution_count": 85,
   "id": "997b6641",
   "metadata": {},
   "outputs": [
    {
     "data": {
      "text/plain": [
       "2"
      ]
     },
     "execution_count": 85,
     "metadata": {},
     "output_type": "execute_result"
    }
   ],
   "source": [
    "num1[0]"
   ]
  },
  {
   "cell_type": "code",
   "execution_count": 86,
   "id": "36fda981",
   "metadata": {},
   "outputs": [
    {
     "data": {
      "text/plain": [
       "5"
      ]
     },
     "execution_count": 86,
     "metadata": {},
     "output_type": "execute_result"
    }
   ],
   "source": [
    "num1[6]"
   ]
  },
  {
   "cell_type": "code",
   "execution_count": 87,
   "id": "f30032d4",
   "metadata": {},
   "outputs": [
    {
     "data": {
      "text/plain": [
       "9"
      ]
     },
     "execution_count": 87,
     "metadata": {},
     "output_type": "execute_result"
    }
   ],
   "source": [
    "len(num1)"
   ]
  },
  {
   "cell_type": "code",
   "execution_count": 88,
   "id": "47545e03",
   "metadata": {},
   "outputs": [
    {
     "data": {
      "text/plain": [
       "[2]"
      ]
     },
     "execution_count": 88,
     "metadata": {},
     "output_type": "execute_result"
    }
   ],
   "source": [
    "num1[0:1]"
   ]
  },
  {
   "cell_type": "code",
   "execution_count": 89,
   "id": "adacee51",
   "metadata": {},
   "outputs": [
    {
     "data": {
      "text/plain": [
       "[10, 1, 3]"
      ]
     },
     "execution_count": 89,
     "metadata": {},
     "output_type": "execute_result"
    }
   ],
   "source": [
    "num1[3:6]"
   ]
  },
  {
   "cell_type": "code",
   "execution_count": 90,
   "id": "d5ac5b5e",
   "metadata": {},
   "outputs": [
    {
     "data": {
      "text/plain": [
       "9"
      ]
     },
     "execution_count": 90,
     "metadata": {},
     "output_type": "execute_result"
    }
   ],
   "source": [
    "num1[-1]"
   ]
  },
  {
   "cell_type": "code",
   "execution_count": 91,
   "id": "abaf76ce",
   "metadata": {},
   "outputs": [
    {
     "data": {
      "text/plain": [
       "[2, 6, 8, 10, 1, 3, 5, 7, 9]"
      ]
     },
     "execution_count": 91,
     "metadata": {},
     "output_type": "execute_result"
    }
   ],
   "source": [
    "num1"
   ]
  },
  {
   "cell_type": "code",
   "execution_count": 92,
   "id": "42e67e82",
   "metadata": {},
   "outputs": [
    {
     "data": {
      "text/plain": [
       "[2, 6, 8, 10, 1]"
      ]
     },
     "execution_count": 92,
     "metadata": {},
     "output_type": "execute_result"
    }
   ],
   "source": [
    "num1[-9:-4]"
   ]
  },
  {
   "cell_type": "code",
   "execution_count": 93,
   "id": "33eb28d5",
   "metadata": {},
   "outputs": [
    {
     "data": {
      "text/plain": [
       "[2]"
      ]
     },
     "execution_count": 93,
     "metadata": {},
     "output_type": "execute_result"
    }
   ],
   "source": [
    "num1[-9:-8]"
   ]
  },
  {
   "cell_type": "code",
   "execution_count": 94,
   "id": "7cd51ed9",
   "metadata": {},
   "outputs": [
    {
     "data": {
      "text/plain": [
       "[10, 1, 3]"
      ]
     },
     "execution_count": 94,
     "metadata": {},
     "output_type": "execute_result"
    }
   ],
   "source": [
    "num1[-6:-3]"
   ]
  },
  {
   "cell_type": "code",
   "execution_count": 95,
   "id": "4e9ceee8",
   "metadata": {},
   "outputs": [
    {
     "data": {
      "text/plain": [
       "[2, 6, 8, 10, 1, 3, 5, 7]"
      ]
     },
     "execution_count": 95,
     "metadata": {},
     "output_type": "execute_result"
    }
   ],
   "source": [
    "num1[-9:-1]"
   ]
  },
  {
   "cell_type": "code",
   "execution_count": 99,
   "id": "a6b79ace",
   "metadata": {},
   "outputs": [
    {
     "name": "stdout",
     "output_type": "stream",
     "text": [
      "enter the value of length10\n",
      "enter the value of breadth20\n",
      "the area of rectangle is 200\n",
      "the area of rectangle with length 10 and breadth 20 is 200\n"
     ]
    }
   ],
   "source": [
    "#find the area of rectangle\n",
    "length=int(input(\"enter the value of length\"))\n",
    "breadth=int(input(\"enter the value of breadth\"))\n",
    "area=length*breadth\n",
    "print(\"the area of rectangle is\",area)\n",
    "print(\"the area of rectangle with length\",length, \"and breadth\",breadth,\"is\",area)\n"
   ]
  },
  {
   "cell_type": "code",
   "execution_count": null,
   "id": "e9d7a4fa",
   "metadata": {},
   "outputs": [],
   "source": []
  }
 ],
 "metadata": {
  "kernelspec": {
   "display_name": "Python 3",
   "language": "python",
   "name": "python3"
  },
  "language_info": {
   "codemirror_mode": {
    "name": "ipython",
    "version": 3
   },
   "file_extension": ".py",
   "mimetype": "text/x-python",
   "name": "python",
   "nbconvert_exporter": "python",
   "pygments_lexer": "ipython3",
   "version": "3.8.8"
  }
 },
 "nbformat": 4,
 "nbformat_minor": 5
}
