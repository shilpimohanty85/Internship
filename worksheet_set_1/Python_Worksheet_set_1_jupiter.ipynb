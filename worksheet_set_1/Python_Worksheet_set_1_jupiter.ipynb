{
 "cells": [
  {
   "cell_type": "markdown",
   "id": "a12d9c11",
   "metadata": {},
   "source": [
    "#  11 .To find the factorial of a given number\n",
    "\n"
   ]
  },
  {
   "cell_type": "code",
   "execution_count": 65,
   "id": "c02b8d56",
   "metadata": {},
   "outputs": [],
   "source": [
    "def factorial(n):\n",
    "    \n",
    "    if type(n) == float:\n",
    "        print(\"Please enter integer\") \n",
    "    elif n<0:            #checking for n less than zero\n",
    "            print(\"The facorial of negative number is undefined \")\n",
    "    elif n==0 or n==1:  #checking for n is equal to zero or one \n",
    "        print(\"The factorial of \", n, \"is : \",1) \n",
    "    else:               # calculation for n greater than one\n",
    "        f=1\n",
    "        m=n             #assign value of n to separate variable m for while loop \n",
    "        while(m>1):\n",
    "            f= f*m\n",
    "            m=m-1\n",
    "        print(\"The factorial of \", n, \"is : \",f) \n"
   ]
  },
  {
   "cell_type": "code",
   "execution_count": 67,
   "id": "d8ae0e76",
   "metadata": {},
   "outputs": [
    {
     "name": "stdout",
     "output_type": "stream",
     "text": [
      "The factorial of  9 is :  362880\n"
     ]
    }
   ],
   "source": [
    "factorial(9)"
   ]
  },
  {
   "cell_type": "markdown",
   "id": "c408de4c",
   "metadata": {},
   "source": [
    "# 12.To find whether a number is prime or composite"
   ]
  },
  {
   "cell_type": "code",
   "execution_count": 84,
   "id": "12aaadaa",
   "metadata": {},
   "outputs": [],
   "source": [
    "#To check whether it is prime or composite number by defining funtion\n",
    "\n",
    "def prime_composite(n):   \n",
    "    if(n==0 or n==1):\n",
    "        print(n,\"is neither prime nor composite.\")\n",
    "    elif n>1 :\n",
    "        for i in range(2,n):\n",
    "            if(n%i == 0):\n",
    "                print(n,\"is not prime but composite number.\")\n",
    "                break\n",
    "        else:\n",
    "            print(n,\"number is prime but not composite number\")\n",
    "    else:\n",
    "        print(\"Please enter positive number only \")"
   ]
  },
  {
   "cell_type": "code",
   "execution_count": 88,
   "id": "f27271b9",
   "metadata": {},
   "outputs": [
    {
     "name": "stdout",
     "output_type": "stream",
     "text": [
      "4 is not prime but composite number.\n"
     ]
    }
   ],
   "source": [
    "prime_composite(4)"
   ]
  },
  {
   "cell_type": "markdown",
   "id": "875f89ca",
   "metadata": {},
   "source": [
    "# 13.To check whether a given string is palindrome or not."
   ]
  },
  {
   "cell_type": "code",
   "execution_count": 107,
   "id": "e25e3ec5",
   "metadata": {},
   "outputs": [
    {
     "name": "stdout",
     "output_type": "stream",
     "text": [
      "Enter a String :  madam\n",
      "The string is palindrome\n"
     ]
    }
   ],
   "source": [
    "#input any string to check whether its palindrome or nor\n",
    "\n",
    "string=input(\"Enter a String :  \")\n",
    "\n",
    "reverse_str=(string[::-1]) #reverse order\n",
    "\n",
    "if reverse_str==string:\n",
    "    print(\"The string is palindrome\")\n",
    "else:\n",
    "    print(\"The string is not palindrome\")"
   ]
  },
  {
   "cell_type": "markdown",
   "id": "1a78c851",
   "metadata": {},
   "source": [
    "# 14.To get the third side of right-angled triangle from two given sides."
   ]
  },
  {
   "cell_type": "code",
   "execution_count": 116,
   "id": "e263587c",
   "metadata": {},
   "outputs": [
    {
     "name": "stdout",
     "output_type": "stream",
     "text": [
      "Enter length of Traingle side1\n",
      "Enter length of Traingle side1\n",
      "The length of the third side is:1.41\n"
     ]
    }
   ],
   "source": [
    "from math import sqrt\n",
    "\n",
    "def length():\n",
    "    length=float(input(\"Enter length of Traingle side\"))\n",
    "    return length\n",
    "side1=length()\n",
    "side2=length()\n",
    "\n",
    "def caltraingle(side1,side2):\n",
    "    side3=sqrt(side1*side1+side2*side2)\n",
    "    print(\"The length of the third side is:%.2f\"% side3)\n",
    "\n",
    "caltraingle(side1,side2)"
   ]
  },
  {
   "cell_type": "markdown",
   "id": "05b509e4",
   "metadata": {},
   "source": [
    "# 15.To print the frequency of each of the characters present in a given string"
   ]
  },
  {
   "cell_type": "code",
   "execution_count": 185,
   "id": "87c6414a",
   "metadata": {
    "scrolled": false
   },
   "outputs": [
    {
     "name": "stdout",
     "output_type": "stream",
     "text": [
      "Frequency of character in  australia :  Counter({'a': 3, 'u': 1, 's': 1, 't': 1, 'r': 1, 'l': 1, 'i': 1})\n"
     ]
    }
   ],
   "source": [
    "from collections import Counter\n",
    "\n",
    "#st=input(\"Enter a string\")\n",
    "st = 'australia'\n",
    "num = Counter(st)\n",
    "print(\"Frequency of character in \", st, \": \", num)"
   ]
  },
  {
   "cell_type": "code",
   "execution_count": null,
   "id": "11be426e",
   "metadata": {},
   "outputs": [],
   "source": []
  },
  {
   "cell_type": "code",
   "execution_count": null,
   "id": "fa4cf0bf",
   "metadata": {},
   "outputs": [],
   "source": []
  }
 ],
 "metadata": {
  "kernelspec": {
   "display_name": "Python 3",
   "language": "python",
   "name": "python3"
  },
  "language_info": {
   "codemirror_mode": {
    "name": "ipython",
    "version": 3
   },
   "file_extension": ".py",
   "mimetype": "text/x-python",
   "name": "python",
   "nbconvert_exporter": "python",
   "pygments_lexer": "ipython3",
   "version": "3.8.8"
  }
 },
 "nbformat": 4,
 "nbformat_minor": 5
}
